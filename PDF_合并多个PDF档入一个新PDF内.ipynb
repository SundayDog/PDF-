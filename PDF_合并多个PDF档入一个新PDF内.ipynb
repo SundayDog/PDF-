{
 "cells": [
  {
   "cell_type": "code",
   "execution_count": 4,
   "metadata": {},
   "outputs": [],
   "source": [
    "#合并多个PDF档如一个新PDF档内\n",
    "\n",
    "import PyPDF2, os\n",
    "\n",
    "#Get all the PDF files\n",
    "pdfFiles=[]\n",
    "for filename in os.listdir('.'):\n",
    "    if filename.endswith('.pdf'):\n",
    "        pdfFiles.append(filename)\n",
    "pdfFiles.sort(key=str.lower)\n",
    "\n",
    "pdfWriter=PyPDF2.PdfFileWriter()\n",
    "\n",
    "#Loop through all the PDF files\n",
    "for filename in pdfFiles:\n",
    "    pdfFileObj=open(filename,'rb')\n",
    "    pdfReader=PyPDF2.PdfFileReader(pdfFileObj)\n",
    "    \n",
    "    #Loop through all the pages and add them\n",
    "    for pageNum in range(0,pdfReader.numPages):\n",
    "        pageObj=pdfReader.getPage(pageNum)\n",
    "        pdfWriter.addPage(pageObj)\n",
    "        \n",
    "#Save the resulting PDF to a file\n",
    "pdfOutput=open('New Doc.pdf','wb')\n",
    "pdfWriter.write(pdfOutput)\n",
    "pdfOutput.close()"
   ]
  },
  {
   "cell_type": "code",
   "execution_count": null,
   "metadata": {},
   "outputs": [],
   "source": [
    "#再次提醒不要进行缩排，这是Python自己决定，和VBA不同"
   ]
  }
 ],
 "metadata": {
  "kernelspec": {
   "display_name": "Python 3",
   "language": "python",
   "name": "python3"
  },
  "language_info": {
   "codemirror_mode": {
    "name": "ipython",
    "version": 3
   },
   "file_extension": ".py",
   "mimetype": "text/x-python",
   "name": "python",
   "nbconvert_exporter": "python",
   "pygments_lexer": "ipython3",
   "version": "3.7.1"
  }
 },
 "nbformat": 4,
 "nbformat_minor": 2
}
