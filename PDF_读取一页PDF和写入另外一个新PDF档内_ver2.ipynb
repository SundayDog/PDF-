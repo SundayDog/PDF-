{
 "cells": [
  {
   "cell_type": "code",
   "execution_count": 1,
   "metadata": {},
   "outputs": [],
   "source": [
    "#提取pdf文件内某页,pdf文件添加pdf文件档种类\n",
    "from PyPDF2 import PdfFileReader, PdfFileWriter \n",
    "\n",
    "#参数管理区\n",
    "#获取要被读取的文件名称\n",
    "filename = 'Tax payment receipt and bank statement.pdf'\n",
    "#新PDF名字\n",
    "writeFile = 'Tax payment receipt and bank statement_Page 2.pdf'\n",
    "#要提取的页数（页数-1） \n",
    "GetPage=1\n",
    "\n",
    "#Coding as follows:\n",
    "# 获取一个 PdfFileReader 对象 \n",
    "f=open(filename, 'rb')\n",
    "pdfReader = PdfFileReader(f) \n",
    "#将GetPage转换成integer\n",
    "GetPage=int(GetPage)\n",
    "# 返回一个 PageObject \n",
    "page = pdfReader.getPage(GetPage) \n",
    "# 获取一个 PdfFileWriter 对象 \n",
    "pdfWriter = PdfFileWriter() \n",
    "# 将一个 PageObject 加入到 PdfFileWriter 中 \n",
    "pdfWriter.addPage(page) \n",
    "# 输出到文件中 \n",
    "pdfWriter.write(open(writeFile, 'wb'))\n",
    "#关闭程序\n",
    "f.close()"
   ]
  },
  {
   "cell_type": "code",
   "execution_count": null,
   "metadata": {},
   "outputs": [],
   "source": []
  }
 ],
 "metadata": {
  "kernelspec": {
   "display_name": "Python 3",
   "language": "python",
   "name": "python3"
  },
  "language_info": {
   "codemirror_mode": {
    "name": "ipython",
    "version": 3
   },
   "file_extension": ".py",
   "mimetype": "text/x-python",
   "name": "python",
   "nbconvert_exporter": "python",
   "pygments_lexer": "ipython3",
   "version": "3.7.1"
  }
 },
 "nbformat": 4,
 "nbformat_minor": 2
}
