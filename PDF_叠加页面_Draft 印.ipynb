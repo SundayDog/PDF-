{
 "cells": [
  {
   "cell_type": "code",
   "execution_count": 11,
   "metadata": {},
   "outputs": [],
   "source": [
    "#用于将水印“Draft”加入至pdf文件第一页的右上角\n",
    "\n",
    "import PyPDF2\n",
    "#参数管理区\n",
    "OriginalPdfFileName = 'Tax assessment Final 201718'\n",
    "OriginalPdfFile = OriginalPdfFileName+'.pdf'\n",
    "NewCoveredFile = 'Draft_'+OriginalPdfFileName+'.pdf'\n",
    "Watermark = 'Draft Watermark.pdf'\n",
    "\n",
    "OriginalFile=open(OriginalPdfFile,'rb')\n",
    "pdfReader=PyPDF2.PdfFileReader(OriginalFile)\n",
    "OriginalFirstPage=pdfReader.getPage(0)\n",
    "pdfWatermarkReader=PyPDF2.PdfFileReader(open(Watermark,'rb'))\n",
    "OriginalFirstPage.mergePage(pdfWatermarkReader.getPage(0))\n",
    "pdfWriter=PyPDF2.PdfFileWriter()\n",
    "pdfWriter.addPage(OriginalFirstPage)\n",
    "\n",
    "for pageNum in range(1,pdfReader.numPages):\n",
    "    pageObj = pdfReader.getPage(pageNum)\n",
    "    pdfWriter.addPage(pageObj)\n",
    "resultPdffFile=open(NewCoveredFile,'wb')\n",
    "pdfWriter.write(resultPdffFile)\n",
    "OriginalFile.close()\n",
    "resultPdffFile.close()"
   ]
  },
  {
   "cell_type": "code",
   "execution_count": null,
   "metadata": {},
   "outputs": [],
   "source": []
  }
 ],
 "metadata": {
  "kernelspec": {
   "display_name": "Python 3",
   "language": "python",
   "name": "python3"
  },
  "language_info": {
   "codemirror_mode": {
    "name": "ipython",
    "version": 3
   },
   "file_extension": ".py",
   "mimetype": "text/x-python",
   "name": "python",
   "nbconvert_exporter": "python",
   "pygments_lexer": "ipython3",
   "version": "3.7.1"
  }
 },
 "nbformat": 4,
 "nbformat_minor": 2
}
